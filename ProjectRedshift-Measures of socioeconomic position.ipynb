{
 "cells": [
  {
   "cell_type": "markdown",
   "metadata": {},
   "source": [
    "# Measures of socioeconomic position (Part 2)\n",
    "\n",
    "Author: Mauro Antonio León Payano"
   ]
  },
  {
   "cell_type": "code",
   "execution_count": 7,
   "metadata": {},
   "outputs": [],
   "source": [
    "import pandas as pd\n",
    "import sqlalchemy as sa\n",
    "from sqlalchemy.orm import sessionmaker\n",
    "\n",
    "def redshift_conn():\n",
    "    config = {}\n",
    "    config[\"redshift_user\"] = \"xxxxx\"\n",
    "    config[\"redshift_password\"] = \"xxxx\"\n",
    "    config[\"redshift_host\"] = \"xxxxx\"\n",
    "    config[\"redshift_port\"] = \"xxxx\"\n",
    "    config[\"redshift_database\"] = \"xxxx\"\n",
    "    uri = 'redshift+psycopg2://{p[redshift_user]}:{p[redshift_password]}@{p[redshift_host]}:{p[redshift_port]}/{p[redshift_database]}'\\\n",
    "    .format(p=config)\n",
    "    db_credentials = (uri)\n",
    "    engine = sa.create_engine(db_credentials)\n",
    "    Session = sessionmaker(bind=engine)\n",
    "    return Session(), uri\n",
    "\n",
    "conn, uri = redshift_conn()"
   ]
  },
  {
   "cell_type": "markdown",
   "metadata": {},
   "source": [
    "## List the existing tables in the RedShift database\n"
   ]
  },
  {
   "cell_type": "code",
   "execution_count": 83,
   "metadata": {},
   "outputs": [
    {
     "data": {
      "text/html": [
       "<div>\n",
       "<style scoped>\n",
       "    .dataframe tbody tr th:only-of-type {\n",
       "        vertical-align: middle;\n",
       "    }\n",
       "\n",
       "    .dataframe tbody tr th {\n",
       "        vertical-align: top;\n",
       "    }\n",
       "\n",
       "    .dataframe thead th {\n",
       "        text-align: right;\n",
       "    }\n",
       "</style>\n",
       "<table border=\"1\" class=\"dataframe\">\n",
       "  <thead>\n",
       "    <tr style=\"text-align: right;\">\n",
       "      <th></th>\n",
       "      <th>tablename</th>\n",
       "    </tr>\n",
       "  </thead>\n",
       "  <tbody>\n",
       "    <tr>\n",
       "      <th>0</th>\n",
       "      <td>cell</td>\n",
       "    </tr>\n",
       "    <tr>\n",
       "      <th>1</th>\n",
       "      <td>mcc</td>\n",
       "    </tr>\n",
       "    <tr>\n",
       "      <th>2</th>\n",
       "      <td>movement</td>\n",
       "    </tr>\n",
       "    <tr>\n",
       "      <th>3</th>\n",
       "      <td>ref_cell</td>\n",
       "    </tr>\n",
       "    <tr>\n",
       "      <th>4</th>\n",
       "      <td>transaction</td>\n",
       "    </tr>\n",
       "    <tr>\n",
       "      <th>5</th>\n",
       "      <td>transaction_amp</td>\n",
       "    </tr>\n",
       "    <tr>\n",
       "      <th>6</th>\n",
       "      <td>transaction_puc</td>\n",
       "    </tr>\n",
       "  </tbody>\n",
       "</table>\n",
       "</div>"
      ],
      "text/plain": [
       "         tablename\n",
       "0             cell\n",
       "1              mcc\n",
       "2         movement\n",
       "3         ref_cell\n",
       "4      transaction\n",
       "5  transaction_amp\n",
       "6  transaction_puc"
      ]
     },
     "execution_count": 83,
     "metadata": {},
     "output_type": "execute_result"
    }
   ],
   "source": [
    "query_table = \"\"\"\n",
    "select distinct(tablename) from pg_table_def where schemaname = 'public';\n",
    "\"\"\"\n",
    "pd.read_sql(query_table, conn.bind)"
   ]
  },
  {
   "cell_type": "markdown",
   "metadata": {},
   "source": [
    "## Count valid transactions"
   ]
  },
  {
   "cell_type": "code",
   "execution_count": 77,
   "metadata": {
    "scrolled": false
   },
   "outputs": [
    {
     "data": {
      "text/html": [
       "<div>\n",
       "<style scoped>\n",
       "    .dataframe tbody tr th:only-of-type {\n",
       "        vertical-align: middle;\n",
       "    }\n",
       "\n",
       "    .dataframe tbody tr th {\n",
       "        vertical-align: top;\n",
       "    }\n",
       "\n",
       "    .dataframe thead th {\n",
       "        text-align: right;\n",
       "    }\n",
       "</style>\n",
       "<table border=\"1\" class=\"dataframe\">\n",
       "  <thead>\n",
       "    <tr style=\"text-align: right;\">\n",
       "      <th></th>\n",
       "      <th>count</th>\n",
       "    </tr>\n",
       "  </thead>\n",
       "  <tbody>\n",
       "    <tr>\n",
       "      <th>0</th>\n",
       "      <td>108515</td>\n",
       "    </tr>\n",
       "  </tbody>\n",
       "</table>\n",
       "</div>"
      ],
      "text/plain": [
       "    count\n",
       "0  108515"
      ]
     },
     "execution_count": 77,
     "metadata": {},
     "output_type": "execute_result"
    }
   ],
   "source": [
    "query_count_transactions = \"\"\"\n",
    "SELECT COUNT(*)\n",
    "FROM transaction\n",
    "WHERE amount_sol>0\n",
    "AND mccg = 28;\n",
    "\"\"\"\n",
    "\n",
    "pd.read_sql(query_count_transactions, conn.bind)"
   ]
  },
  {
   "cell_type": "markdown",
   "metadata": {},
   "source": [
    "# Create Table transaction_amp (Average Monthy Purchase)\n",
    "### 1. Drop preexisting table transaction_amp"
   ]
  },
  {
   "cell_type": "code",
   "execution_count": 78,
   "metadata": {},
   "outputs": [
    {
     "name": "stdout",
     "output_type": "stream",
     "text": [
      "End execute drop table\n"
     ]
    }
   ],
   "source": [
    "query_remove_table = \"\"\"\n",
    "DROP TABLE transaction_amp;\n",
    "\"\"\"\n",
    "try:\n",
    "    pd.read_sql(query_remove_table, conn.bind)\n",
    "except:\n",
    "    print(\"End execute drop table\")"
   ]
  },
  {
   "cell_type": "markdown",
   "metadata": {},
   "source": [
    "### 2. Create transaction_amp table from a select statement"
   ]
  },
  {
   "cell_type": "code",
   "execution_count": 82,
   "metadata": {},
   "outputs": [
    {
     "name": "stdout",
     "output_type": "stream",
     "text": [
      "End execute query\n"
     ]
    }
   ],
   "source": [
    "#Extract column date in format YYYYMM\n",
    "query_create_table_amp = \"\"\"\n",
    "CREATE TABLE transaction_amp AS (\n",
    "SELECT t.row, t.client_id, t.time_count, t.amount_total, t.amp, sum(t.amp) over (order by t.row rows unbounded preceding) as cum_sum\n",
    "    FROM (\n",
    "        SELECT row_number() over (order by amp) as row, p.client_id, p.time_count, p.amount_total, \n",
    "        p.amount_total/p.time_count as amp\n",
    "        FROM (\n",
    "            SELECT x.client_id, count(distinct(x.weeknum)) as time_count, sum(x.amount_sol) as amount_total\n",
    "            FROM (\n",
    "                SELECT y.client_id, TO_CHAR(y.date, 'YYYYMM') as weeknum, y.amount_sol, y.mccg\n",
    "                FROM transaction AS y\n",
    "                WHERE y.amount_sol > 0.0\n",
    "                AND y.mccg IN (1,2,6,7,8,9,10,11,12,13,14,15,16,17,18,19,22,23,24,25,26,27)\n",
    "            ) AS x\n",
    "            GROUP BY x.client_id\n",
    "        ) AS p\n",
    "        ORDER BY amp ASC\n",
    "    ) AS t)\n",
    "\"\"\"\n",
    "try:\n",
    "    pd.read_sql(query_create_table_amp, conn.bind)\n",
    "except:\n",
    "    print(\"End execute query\")"
   ]
  },
  {
   "cell_type": "markdown",
   "metadata": {},
   "source": [
    "### 3. Add C(f) column into table transaction_amp"
   ]
  },
  {
   "cell_type": "code",
   "execution_count": 85,
   "metadata": {},
   "outputs": [
    {
     "name": "stdout",
     "output_type": "stream",
     "text": [
      "Add column into table transaction_amp\n"
     ]
    }
   ],
   "source": [
    "#UPDATE CREATE COLUMN C(f)\n",
    "update_add_column = \"\"\"\n",
    "ALTER TABLE transaction_amp\n",
    "ADD c_f numeric(38,4)\n",
    "\"\"\"\n",
    "try:\n",
    "    pd.read_sql(update_add_column, conn.bind)\n",
    "except:\n",
    "    print(\"Add column into table transaction_amp\")"
   ]
  },
  {
   "cell_type": "markdown",
   "metadata": {},
   "source": [
    "### 4. List the columns in table transaction_amp"
   ]
  },
  {
   "cell_type": "code",
   "execution_count": 86,
   "metadata": {},
   "outputs": [
    {
     "data": {
      "text/html": [
       "<div>\n",
       "<style scoped>\n",
       "    .dataframe tbody tr th:only-of-type {\n",
       "        vertical-align: middle;\n",
       "    }\n",
       "\n",
       "    .dataframe tbody tr th {\n",
       "        vertical-align: top;\n",
       "    }\n",
       "\n",
       "    .dataframe thead th {\n",
       "        text-align: right;\n",
       "    }\n",
       "</style>\n",
       "<table border=\"1\" class=\"dataframe\">\n",
       "  <thead>\n",
       "    <tr style=\"text-align: right;\">\n",
       "      <th></th>\n",
       "      <th>column</th>\n",
       "      <th>type</th>\n",
       "      <th>encoding</th>\n",
       "      <th>distkey</th>\n",
       "      <th>sortkey</th>\n",
       "      <th>notnull</th>\n",
       "    </tr>\n",
       "  </thead>\n",
       "  <tbody>\n",
       "    <tr>\n",
       "      <th>0</th>\n",
       "      <td>row</td>\n",
       "      <td>bigint</td>\n",
       "      <td>lzo</td>\n",
       "      <td>False</td>\n",
       "      <td>0</td>\n",
       "      <td>False</td>\n",
       "    </tr>\n",
       "    <tr>\n",
       "      <th>1</th>\n",
       "      <td>client_id</td>\n",
       "      <td>character varying(256)</td>\n",
       "      <td>lzo</td>\n",
       "      <td>False</td>\n",
       "      <td>0</td>\n",
       "      <td>False</td>\n",
       "    </tr>\n",
       "    <tr>\n",
       "      <th>2</th>\n",
       "      <td>time_count</td>\n",
       "      <td>bigint</td>\n",
       "      <td>lzo</td>\n",
       "      <td>False</td>\n",
       "      <td>0</td>\n",
       "      <td>False</td>\n",
       "    </tr>\n",
       "    <tr>\n",
       "      <th>3</th>\n",
       "      <td>amount_total</td>\n",
       "      <td>numeric(38,0)</td>\n",
       "      <td>lzo</td>\n",
       "      <td>False</td>\n",
       "      <td>0</td>\n",
       "      <td>False</td>\n",
       "    </tr>\n",
       "    <tr>\n",
       "      <th>4</th>\n",
       "      <td>amp</td>\n",
       "      <td>numeric(38,4)</td>\n",
       "      <td>lzo</td>\n",
       "      <td>False</td>\n",
       "      <td>0</td>\n",
       "      <td>False</td>\n",
       "    </tr>\n",
       "    <tr>\n",
       "      <th>5</th>\n",
       "      <td>cum_sum</td>\n",
       "      <td>numeric(38,4)</td>\n",
       "      <td>lzo</td>\n",
       "      <td>False</td>\n",
       "      <td>0</td>\n",
       "      <td>False</td>\n",
       "    </tr>\n",
       "    <tr>\n",
       "      <th>6</th>\n",
       "      <td>c_f</td>\n",
       "      <td>numeric(38,4)</td>\n",
       "      <td>lzo</td>\n",
       "      <td>False</td>\n",
       "      <td>0</td>\n",
       "      <td>False</td>\n",
       "    </tr>\n",
       "  </tbody>\n",
       "</table>\n",
       "</div>"
      ],
      "text/plain": [
       "         column                    type encoding  distkey  sortkey  notnull\n",
       "0           row                  bigint      lzo    False        0    False\n",
       "1     client_id  character varying(256)      lzo    False        0    False\n",
       "2    time_count                  bigint      lzo    False        0    False\n",
       "3  amount_total           numeric(38,0)      lzo    False        0    False\n",
       "4           amp           numeric(38,4)      lzo    False        0    False\n",
       "5       cum_sum           numeric(38,4)      lzo    False        0    False\n",
       "6           c_f           numeric(38,4)      lzo    False        0    False"
      ]
     },
     "execution_count": 86,
     "metadata": {},
     "output_type": "execute_result"
    }
   ],
   "source": [
    "query_test_create_table = \"\"\"\n",
    "select \"column\", type, encoding, distkey, sortkey, \"notnull\" \n",
    "from pg_table_def \n",
    "where tablename = 'transaction_amp'\n",
    "\"\"\"\n",
    "pd.read_sql(query_test_create_table, conn.bind)"
   ]
  },
  {
   "cell_type": "markdown",
   "metadata": {},
   "source": [
    "### 5. Calculate the distribution column C(f)\n"
   ]
  },
  {
   "cell_type": "code",
   "execution_count": 87,
   "metadata": {},
   "outputs": [
    {
     "name": "stdout",
     "output_type": "stream",
     "text": [
      "Update column c_f\n"
     ]
    }
   ],
   "source": [
    "set_value_column=\"\"\"\n",
    "UPDATE transaction_amp\n",
    "SET c_f = cum_sum/(SELECT SUM(amp) AS sum_amp \n",
    "    FROM transaction_amp)\n",
    "\"\"\"\n",
    "try:\n",
    "    pd.read_sql(set_value_column, conn.bind)\n",
    "except:\n",
    "    print(\"Update column c_f\")"
   ]
  },
  {
   "cell_type": "markdown",
   "metadata": {},
   "source": [
    "### 6. Classification of users into classes\n",
    "\n",
    "#### 6.1. Add class column"
   ]
  },
  {
   "cell_type": "code",
   "execution_count": 107,
   "metadata": {},
   "outputs": [
    {
     "name": "stdout",
     "output_type": "stream",
     "text": [
      "Add column into table transaction_amp\n"
     ]
    }
   ],
   "source": [
    "## Add columm class\n",
    "#UPDATE CREATE COLUMN C(f)\n",
    "update_add_column = \"\"\"\n",
    "ALTER TABLE transaction_amp\n",
    "ADD class bigint\n",
    "\"\"\"\n",
    "try:\n",
    "    pd.read_sql(update_add_column, conn.bind)\n",
    "except:\n",
    "    print(\"Add column into table transaction_amp\")"
   ]
  },
  {
   "cell_type": "markdown",
   "metadata": {},
   "source": [
    "#### 6.2. Assign the socioeconomic class to each record \n",
    "\n",
    "For classification, consider which:\n",
    "\\begin{equation*}\n",
    "\\left (\\sum_{u=1} P_u /n \\right)\n",
    "\\end{equation*}\n",
    "is the same in each class. Where n = 1806836 is the total of transations"
   ]
  },
  {
   "cell_type": "code",
   "execution_count": 153,
   "metadata": {},
   "outputs": [
    {
     "name": "stdout",
     "output_type": "stream",
     "text": [
      "Update column class 2\n"
     ]
    }
   ],
   "source": [
    "## Assign class 1\n",
    "set_class_1_table = \"\"\"\n",
    "UPDATE transaction_amp\n",
    "SET class = 1\n",
    "WHERE cum_sum >= 0 AND cum_sum <= 1.992676e+08\n",
    "\"\"\"\n",
    "try:\n",
    "    pd.read_sql(set_class_1_table, conn.bind)\n",
    "except:\n",
    "    print(\"Update column class 1\")\n",
    "    \n",
    "## Assign class 2\n",
    "set_class_2_table = \"\"\"\n",
    "UPDATE transaction_amp\n",
    "SET class = 2\n",
    "WHERE cum_sum > 1.992676e+08 AND cum_sum <= 1.992676e+08*2\n",
    "\"\"\"\n",
    "try:\n",
    "    pd.read_sql(set_class_2_table, conn.bind)\n",
    "except:\n",
    "    print(\"Update column class 2\")\n",
    "\n",
    "## Assign class 3\n",
    "set_class_3_table = \"\"\"\n",
    "UPDATE transaction_amp\n",
    "SET class = 3\n",
    "WHERE cum_sum > 1.992676e+08*2 AND cum_sum <= 1.992676e+08*3\n",
    "\"\"\"\n",
    "try:\n",
    "    pd.read_sql(set_class_3_table, conn.bind)\n",
    "except:\n",
    "    print(\"Update column class 3\")\n",
    "\n",
    "## Assign class 4\n",
    "set_class_4_table = \"\"\"\n",
    "UPDATE transaction_amp\n",
    "SET class = 4\n",
    "WHERE cum_sum > 1.992676e+08*3 AND cum_sum <= 1.992676e+08*4\n",
    "\"\"\"\n",
    "try:\n",
    "    pd.read_sql(set_class_4_table, conn.bind)\n",
    "except:\n",
    "    print(\"Update column class 4\")\n",
    "\n",
    "## Assign class 5\n",
    "set_class_5_table = \"\"\"\n",
    "UPDATE transaction_amp\n",
    "SET class = 5\n",
    "WHERE cum_sum > 1.992676e+08*4 AND cum_sum <= 1.992676e+08*5\n",
    "\"\"\"\n",
    "try:\n",
    "    pd.read_sql(set_class_5_table, conn.bind)\n",
    "except:\n",
    "    print(\"Update column class 5\")\n",
    "\n",
    "## Assign class 6\n",
    "set_class_6_table = \"\"\"\n",
    "UPDATE transaction_amp\n",
    "SET class = 6\n",
    "WHERE cum_sum > 1.992676e+08*5 AND cum_sum <= 1.992676e+08*6\n",
    "\"\"\"\n",
    "try:\n",
    "    pd.read_sql(set_class_6_table, conn.bind)\n",
    "except:\n",
    "    print(\"Update column class 6\")\n",
    "\n",
    "## Assign class 7\n",
    "set_class_7_table = \"\"\"\n",
    "UPDATE transaction_amp\n",
    "SET class = 7\n",
    "WHERE cum_sum > 1.992676e+08*6 AND cum_sum <= 1.992676e+08*7\n",
    "\"\"\"\n",
    "try:\n",
    "    pd.read_sql(set_class_7_table, conn.bind)\n",
    "except:\n",
    "    print(\"Update column class 7\")\n",
    "    \n",
    "## Assign class 8\n",
    "set_class_8_table = \"\"\"\n",
    "UPDATE transaction_amp\n",
    "SET class = 8\n",
    "WHERE cum_sum > 1.992676e+08*7 AND cum_sum <= 1.992676e+08*8\n",
    "\"\"\"\n",
    "try:\n",
    "    pd.read_sql(set_class_8_table, conn.bind)\n",
    "except:\n",
    "    print(\"Update column class 8\")\n",
    "    \n",
    "## Assign class 9\n",
    "set_class_9_table = \"\"\"\n",
    "UPDATE transaction_amp\n",
    "SET class = 9\n",
    "WHERE cum_sum > 1.992676e+08*8\n",
    "\"\"\"\n",
    "try:\n",
    "    pd.read_sql(set_class_9_table, conn.bind)\n",
    "except:\n",
    "    print(\"Update column class 9\")"
   ]
  },
  {
   "cell_type": "markdown",
   "metadata": {},
   "source": [
    "query_count_amp = \"\"\"\n",
    "SELECT COUNT(*)\n",
    "FROM transaction_amp\n",
    "\"\"\"\n",
    "pd.read_sql(query_count_amp, conn.bind)\n",
    "\n",
    "1806836"
   ]
  },
  {
   "cell_type": "markdown",
   "metadata": {},
   "source": [
    "#### 6.3. Select the records in the table transaction_amp"
   ]
  },
  {
   "cell_type": "code",
   "execution_count": 10,
   "metadata": {},
   "outputs": [
    {
     "data": {
      "text/html": [
       "<div>\n",
       "<style scoped>\n",
       "    .dataframe tbody tr th:only-of-type {\n",
       "        vertical-align: middle;\n",
       "    }\n",
       "\n",
       "    .dataframe tbody tr th {\n",
       "        vertical-align: top;\n",
       "    }\n",
       "\n",
       "    .dataframe thead th {\n",
       "        text-align: right;\n",
       "    }\n",
       "</style>\n",
       "<table border=\"1\" class=\"dataframe\">\n",
       "  <thead>\n",
       "    <tr style=\"text-align: right;\">\n",
       "      <th></th>\n",
       "      <th>row</th>\n",
       "      <th>client_id</th>\n",
       "      <th>time_count</th>\n",
       "      <th>amount_total</th>\n",
       "      <th>amp</th>\n",
       "      <th>cum_sum</th>\n",
       "      <th>c_f</th>\n",
       "      <th>class</th>\n",
       "    </tr>\n",
       "  </thead>\n",
       "  <tbody>\n",
       "    <tr>\n",
       "      <th>0</th>\n",
       "      <td>2</td>\n",
       "      <td>z4mNGjjEuxM=</td>\n",
       "      <td>1</td>\n",
       "      <td>1.0</td>\n",
       "      <td>1.0</td>\n",
       "      <td>2.0</td>\n",
       "      <td>0.0</td>\n",
       "      <td>1</td>\n",
       "    </tr>\n",
       "    <tr>\n",
       "      <th>1</th>\n",
       "      <td>4</td>\n",
       "      <td>Hwua3H8xbh0=</td>\n",
       "      <td>1</td>\n",
       "      <td>1.0</td>\n",
       "      <td>1.0</td>\n",
       "      <td>4.0</td>\n",
       "      <td>0.0</td>\n",
       "      <td>1</td>\n",
       "    </tr>\n",
       "    <tr>\n",
       "      <th>2</th>\n",
       "      <td>6</td>\n",
       "      <td>Itj9o8RMMOk=</td>\n",
       "      <td>1</td>\n",
       "      <td>1.0</td>\n",
       "      <td>1.0</td>\n",
       "      <td>6.0</td>\n",
       "      <td>0.0</td>\n",
       "      <td>1</td>\n",
       "    </tr>\n",
       "    <tr>\n",
       "      <th>3</th>\n",
       "      <td>8</td>\n",
       "      <td>3CLC9DpdPnY=</td>\n",
       "      <td>1</td>\n",
       "      <td>1.0</td>\n",
       "      <td>1.0</td>\n",
       "      <td>8.0</td>\n",
       "      <td>0.0</td>\n",
       "      <td>1</td>\n",
       "    </tr>\n",
       "    <tr>\n",
       "      <th>4</th>\n",
       "      <td>10</td>\n",
       "      <td>JfF9kq49IHI=</td>\n",
       "      <td>1</td>\n",
       "      <td>1.0</td>\n",
       "      <td>1.0</td>\n",
       "      <td>10.0</td>\n",
       "      <td>0.0</td>\n",
       "      <td>1</td>\n",
       "    </tr>\n",
       "    <tr>\n",
       "      <th>5</th>\n",
       "      <td>12</td>\n",
       "      <td>zqe5rHlpIKk=</td>\n",
       "      <td>1</td>\n",
       "      <td>1.0</td>\n",
       "      <td>1.0</td>\n",
       "      <td>12.0</td>\n",
       "      <td>0.0</td>\n",
       "      <td>1</td>\n",
       "    </tr>\n",
       "    <tr>\n",
       "      <th>6</th>\n",
       "      <td>14</td>\n",
       "      <td>DJFqgpql/jw=</td>\n",
       "      <td>1</td>\n",
       "      <td>1.0</td>\n",
       "      <td>1.0</td>\n",
       "      <td>14.0</td>\n",
       "      <td>0.0</td>\n",
       "      <td>1</td>\n",
       "    </tr>\n",
       "    <tr>\n",
       "      <th>7</th>\n",
       "      <td>16</td>\n",
       "      <td>+SHU2fflLzI=</td>\n",
       "      <td>1</td>\n",
       "      <td>1.0</td>\n",
       "      <td>1.0</td>\n",
       "      <td>16.0</td>\n",
       "      <td>0.0</td>\n",
       "      <td>1</td>\n",
       "    </tr>\n",
       "    <tr>\n",
       "      <th>8</th>\n",
       "      <td>18</td>\n",
       "      <td>WC9q8NJAVJ8=</td>\n",
       "      <td>1</td>\n",
       "      <td>1.0</td>\n",
       "      <td>1.0</td>\n",
       "      <td>18.0</td>\n",
       "      <td>0.0</td>\n",
       "      <td>1</td>\n",
       "    </tr>\n",
       "    <tr>\n",
       "      <th>9</th>\n",
       "      <td>20</td>\n",
       "      <td>RW6qJpD0ICM=</td>\n",
       "      <td>1</td>\n",
       "      <td>1.0</td>\n",
       "      <td>1.0</td>\n",
       "      <td>20.0</td>\n",
       "      <td>0.0</td>\n",
       "      <td>1</td>\n",
       "    </tr>\n",
       "  </tbody>\n",
       "</table>\n",
       "</div>"
      ],
      "text/plain": [
       "   row     client_id  time_count  amount_total  amp  cum_sum  c_f  class\n",
       "0    2  z4mNGjjEuxM=           1           1.0  1.0      2.0  0.0      1\n",
       "1    4  Hwua3H8xbh0=           1           1.0  1.0      4.0  0.0      1\n",
       "2    6  Itj9o8RMMOk=           1           1.0  1.0      6.0  0.0      1\n",
       "3    8  3CLC9DpdPnY=           1           1.0  1.0      8.0  0.0      1\n",
       "4   10  JfF9kq49IHI=           1           1.0  1.0     10.0  0.0      1\n",
       "5   12  zqe5rHlpIKk=           1           1.0  1.0     12.0  0.0      1\n",
       "6   14  DJFqgpql/jw=           1           1.0  1.0     14.0  0.0      1\n",
       "7   16  +SHU2fflLzI=           1           1.0  1.0     16.0  0.0      1\n",
       "8   18  WC9q8NJAVJ8=           1           1.0  1.0     18.0  0.0      1\n",
       "9   20  RW6qJpD0ICM=           1           1.0  1.0     20.0  0.0      1"
      ]
     },
     "execution_count": 10,
     "metadata": {},
     "output_type": "execute_result"
    }
   ],
   "source": [
    "select_transaction_amp = \"\"\"\n",
    "SELECT *\n",
    "FROM transaction_amp\n",
    "LIMIT 10\n",
    "\"\"\"\n",
    "pd.read_sql(select_transaction_amp, conn.bind)"
   ]
  },
  {
   "cell_type": "markdown",
   "metadata": {},
   "source": [
    "#### 6.4. Schematic of user partitions\n",
    "Use partitions into 9 socioeconomic classes by using the cumulative AMP function C(f)"
   ]
  },
  {
   "cell_type": "code",
   "execution_count": 18,
   "metadata": {},
   "outputs": [],
   "source": [
    "select_all_transaction_amp = \"\"\"\n",
    "SELECT client_id, c_f, class\n",
    "FROM transaction_amp\n",
    "ORDER BY amp\n",
    "\"\"\"\n",
    "df = pd.read_sql(select_all_transaction_amp, conn.bind)"
   ]
  },
  {
   "cell_type": "code",
   "execution_count": 19,
   "metadata": {},
   "outputs": [
    {
     "data": {
      "image/png": "[encoded data removed]",
      "text/plain": [
       "<matplotlib.figure.Figure at 0x7f2752712390>"
      ]
     },
     "metadata": {},
     "output_type": "display_data"
    }
   ],
   "source": [
    "import matplotlib.pyplot as plt\n",
    "import numpy as np\n",
    "%matplotlib inline\n",
    "\n",
    "distr_fraction_people = np.array(df['c_f'])\n",
    "x = np.linspace(0,len(distr_fraction_people));\n",
    "y = np.linspace(0,1);\n",
    "plt.figure(figsize=(10,10))\n",
    "distr_fraction_people_line = plt.plot(distr_fraction_people, label=\"Cp(f)\")\n",
    "distr_perfect_line = plt.plot(x,y,linestyle='--', label=\"Perfect Distribution\");\n",
    "plt.legend(loc='upper left')\n",
    "\n",
    "plt.ylabel('Cp(f)')\n",
    "plt.xlabel('f')\n",
    "plt.show()"
   ]
  },
  {
   "cell_type": "markdown",
   "metadata": {},
   "source": [
    "# Create Table transaction_puc (Purchase User By Category)\n",
    "\n",
    "### 1. Drop preexisting table transaction_puc"
   ]
  },
  {
   "cell_type": "code",
   "execution_count": null,
   "metadata": {},
   "outputs": [],
   "source": [
    "query_remove_table = \"\"\"\n",
    "DROP TABLE transaction_puc;\n",
    "\"\"\"\n",
    "try:\n",
    "    pd.read_sql(query_remove_table, conn.bind)\n",
    "except:\n",
    "    print(\"Drop table transaction_puc\")"
   ]
  },
  {
   "cell_type": "markdown",
   "metadata": {},
   "source": [
    "### 2. Create transaction_puc table from a select statement\n",
    "\n",
    "\\begin{equation*}\n",
    "\\left (r(c,u) = \\frac{m_u^{c}}{\\sum_{c} m_u^{c}} \\right)\n",
    "\\end{equation*}\n"
   ]
  },
  {
   "cell_type": "code",
   "execution_count": 200,
   "metadata": {},
   "outputs": [
    {
     "name": "stdout",
     "output_type": "stream",
     "text": [
      "End execute query\n"
     ]
    }
   ],
   "source": [
    "#Sum by category c_i\n",
    "query_create_table_puc = \"\"\"\n",
    "CREATE TABLE transaction_puc AS (\n",
    "    SELECT S.client_id, L.mccg, L.amount_mccg_total, S.amount_total, \n",
    "            CASE WHEN S.amount_total=0 then 0 ELSE L.amount_mccg_total/S.amount_total END as PUC\n",
    "    FROM (\n",
    "        SELECT client_id, sum(amount_sol) AS amount_total\n",
    "        FROM transaction\n",
    "        WHERE amount_sol > 0.0\n",
    "        AND mccg IN (1,2,6,7,8,9,10,11,12,13,14,15,16,17,18,19,22,23,24,25,26,27)\n",
    "        GROUP BY client_id) S\n",
    "            INNER JOIN (\n",
    "                SELECT client_id, mccg, sum(amount_sol) AS amount_mccg_total\n",
    "                FROM transaction\n",
    "                WHERE amount_sol > 0.0\n",
    "                AND mccg IN (1,2,6,7,8,9,10,11,12,13,14,15,16,17,18,19,22,23,24,25,26,27)\n",
    "                GROUP BY client_id, mccg) L\n",
    "            ON S.client_id = L.client_id\n",
    "        ORDER BY S.client_id\n",
    ")\n",
    "\"\"\"\n",
    "try:\n",
    "    pd.read_sql(query_create_table_puc, conn.bind)\n",
    "except:\n",
    "    print(\"End execute query\")"
   ]
  },
  {
   "cell_type": "markdown",
   "metadata": {},
   "source": [
    "### 3. Select the records in the table transaction_puc"
   ]
  },
  {
   "cell_type": "code",
   "execution_count": 20,
   "metadata": {},
   "outputs": [
    {
     "data": {
      "text/html": [
       "<div>\n",
       "<style scoped>\n",
       "    .dataframe tbody tr th:only-of-type {\n",
       "        vertical-align: middle;\n",
       "    }\n",
       "\n",
       "    .dataframe tbody tr th {\n",
       "        vertical-align: top;\n",
       "    }\n",
       "\n",
       "    .dataframe thead th {\n",
       "        text-align: right;\n",
       "    }\n",
       "</style>\n",
       "<table border=\"1\" class=\"dataframe\">\n",
       "  <thead>\n",
       "    <tr style=\"text-align: right;\">\n",
       "      <th></th>\n",
       "      <th>client_id</th>\n",
       "      <th>mccg</th>\n",
       "      <th>amount_mccg_total</th>\n",
       "      <th>amount_total</th>\n",
       "      <th>puc</th>\n",
       "    </tr>\n",
       "  </thead>\n",
       "  <tbody>\n",
       "    <tr>\n",
       "      <th>0</th>\n",
       "      <td>+++AhJk2QJM=</td>\n",
       "      <td>24</td>\n",
       "      <td>150.0</td>\n",
       "      <td>943.0</td>\n",
       "      <td>0.1590</td>\n",
       "    </tr>\n",
       "    <tr>\n",
       "      <th>1</th>\n",
       "      <td>+++AhJk2QJM=</td>\n",
       "      <td>22</td>\n",
       "      <td>787.0</td>\n",
       "      <td>943.0</td>\n",
       "      <td>0.8345</td>\n",
       "    </tr>\n",
       "    <tr>\n",
       "      <th>2</th>\n",
       "      <td>+++AhJk2QJM=</td>\n",
       "      <td>23</td>\n",
       "      <td>6.0</td>\n",
       "      <td>943.0</td>\n",
       "      <td>0.0063</td>\n",
       "    </tr>\n",
       "    <tr>\n",
       "      <th>3</th>\n",
       "      <td>+++el3L/5Wo=</td>\n",
       "      <td>24</td>\n",
       "      <td>130.0</td>\n",
       "      <td>130.0</td>\n",
       "      <td>1.0000</td>\n",
       "    </tr>\n",
       "    <tr>\n",
       "      <th>4</th>\n",
       "      <td>+++g8j9k+5A=</td>\n",
       "      <td>17</td>\n",
       "      <td>1315.0</td>\n",
       "      <td>11330.0</td>\n",
       "      <td>0.1160</td>\n",
       "    </tr>\n",
       "    <tr>\n",
       "      <th>5</th>\n",
       "      <td>+++g8j9k+5A=</td>\n",
       "      <td>26</td>\n",
       "      <td>156.0</td>\n",
       "      <td>11330.0</td>\n",
       "      <td>0.0137</td>\n",
       "    </tr>\n",
       "    <tr>\n",
       "      <th>6</th>\n",
       "      <td>+++g8j9k+5A=</td>\n",
       "      <td>6</td>\n",
       "      <td>126.0</td>\n",
       "      <td>11330.0</td>\n",
       "      <td>0.0111</td>\n",
       "    </tr>\n",
       "    <tr>\n",
       "      <th>7</th>\n",
       "      <td>+++g8j9k+5A=</td>\n",
       "      <td>8</td>\n",
       "      <td>2002.0</td>\n",
       "      <td>11330.0</td>\n",
       "      <td>0.1766</td>\n",
       "    </tr>\n",
       "    <tr>\n",
       "      <th>8</th>\n",
       "      <td>+++g8j9k+5A=</td>\n",
       "      <td>11</td>\n",
       "      <td>1469.0</td>\n",
       "      <td>11330.0</td>\n",
       "      <td>0.1296</td>\n",
       "    </tr>\n",
       "    <tr>\n",
       "      <th>9</th>\n",
       "      <td>+++g8j9k+5A=</td>\n",
       "      <td>24</td>\n",
       "      <td>200.0</td>\n",
       "      <td>11330.0</td>\n",
       "      <td>0.0176</td>\n",
       "    </tr>\n",
       "  </tbody>\n",
       "</table>\n",
       "</div>"
      ],
      "text/plain": [
       "      client_id  mccg  amount_mccg_total  amount_total     puc\n",
       "0  +++AhJk2QJM=    24              150.0         943.0  0.1590\n",
       "1  +++AhJk2QJM=    22              787.0         943.0  0.8345\n",
       "2  +++AhJk2QJM=    23                6.0         943.0  0.0063\n",
       "3  +++el3L/5Wo=    24              130.0         130.0  1.0000\n",
       "4  +++g8j9k+5A=    17             1315.0       11330.0  0.1160\n",
       "5  +++g8j9k+5A=    26              156.0       11330.0  0.0137\n",
       "6  +++g8j9k+5A=     6              126.0       11330.0  0.0111\n",
       "7  +++g8j9k+5A=     8             2002.0       11330.0  0.1766\n",
       "8  +++g8j9k+5A=    11             1469.0       11330.0  0.1296\n",
       "9  +++g8j9k+5A=    24              200.0       11330.0  0.0176"
      ]
     },
     "execution_count": 20,
     "metadata": {},
     "output_type": "execute_result"
    }
   ],
   "source": [
    "select_transaction_puc = \"\"\"\n",
    "SELECT *\n",
    "FROM transaction_puc\n",
    "ORDER BY client_id\n",
    "LIMIT 10\n",
    "\"\"\"\n",
    "pd.read_sql(select_transaction_puc, conn.bind)"
   ]
  },
  {
   "cell_type": "code",
   "execution_count": null,
   "metadata": {},
   "outputs": [],
   "source": [
    "query_description = \"\"\"\n",
    "select query, trim(querytxt) as sqlquery, starttime, endtime\n",
    "from stl_query\n",
    "order by query desc limit 5;\n",
    "\"\"\"\n",
    "df = pd.read_sql(query_description, conn.bind)\n",
    "df"
   ]
  }
 ],
 "metadata": {
  "kernelspec": {
   "display_name": "Python 2",
   "language": "python",
   "name": "python2"
  },
  "language_info": {
   "codemirror_mode": {
    "name": "ipython",
    "version": 2
   },
   "file_extension": ".py",
   "mimetype": "text/x-python",
   "name": "python",
   "nbconvert_exporter": "python",
   "pygments_lexer": "ipython2",
   "version": "2.7.14"
  }
 },
 "nbformat": 4,
 "nbformat_minor": 2
}
